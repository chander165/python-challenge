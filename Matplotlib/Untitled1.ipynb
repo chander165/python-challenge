{
 "cells": [
  {
   "cell_type": "code",
   "execution_count": null,
   "metadata": {},
   "outputs": [],
   "source": [
    "import random\n",
    "import sys\n",
    "import math\n"
   ]
  },
  {
   "cell_type": "code",
   "execution_count": null,
   "metadata": {},
   "outputs": [],
   "source": [
    "from random import uniform\n",
    "x, y = uniform(-180,180), uniform(-90, 90)"
   ]
  },
  {
   "cell_type": "code",
   "execution_count": 26,
   "metadata": {},
   "outputs": [
    {
     "name": "stdout",
     "output_type": "stream",
     "text": [
      "-27.818740845241393\n",
      "60.52175863110227\n",
      "-51.168483081042126\n",
      "46.67787789337163\n",
      "90.6351985589244\n",
      "-101.31758505303398\n",
      "-173.20033562991196\n",
      "174.88898575669856\n",
      "-100.02777267186607\n",
      "124.97222632921745\n"
     ]
    }
   ],
   "source": [
    "def newpoint():\n",
    "   return uniform(-180,180), uniform(-90, 90)\n",
    "\n",
    "points = (newpoint() for x in range(10))\n",
    "for point in points:\n",
    "   print(point[0])"
   ]
  },
  {
   "cell_type": "code",
   "execution_count": null,
   "metadata": {},
   "outputs": [],
   "source": [
    "import citipy\n",
    "city = citipy.nearest_city(40.84, -73.87)\n",
    "city.city_name"
   ]
  },
  {
   "cell_type": "code",
   "execution_count": null,
   "metadata": {},
   "outputs": [],
   "source": []
  }
 ],
 "metadata": {
  "kernelspec": {
   "display_name": "Python 3",
   "language": "python",
   "name": "python3"
  },
  "language_info": {
   "codemirror_mode": {
    "name": "ipython",
    "version": 3
   },
   "file_extension": ".py",
   "mimetype": "text/x-python",
   "name": "python",
   "nbconvert_exporter": "python",
   "pygments_lexer": "ipython3",
   "version": "3.6.3"
  }
 },
 "nbformat": 4,
 "nbformat_minor": 2
}
