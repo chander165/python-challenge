{
 "cells": [
  {
   "cell_type": "code",
   "execution_count": 204,
   "metadata": {},
   "outputs": [],
   "source": [
    "import gzip\n",
    "import csv\n",
    "import json\n",
    "import pandas as pd\n",
    "import random\n",
    "import math\n",
    "from random import uniform"
   ]
  },
  {
   "cell_type": "code",
   "execution_count": 205,
   "metadata": {},
   "outputs": [],
   "source": [
    "import requests as req"
   ]
  },
  {
   "cell_type": "code",
   "execution_count": 206,
   "metadata": {},
   "outputs": [
    {
     "data": {
      "text/plain": [
       "'eastchester'"
      ]
     },
     "execution_count": 206,
     "metadata": {},
     "output_type": "execute_result"
    }
   ],
   "source": [
    "import citipy\n",
    "city = citipy.nearest_city(40.84, -73.87)\n",
    "city.city_name\n"
   ]
  },
  {
   "cell_type": "code",
   "execution_count": 207,
   "metadata": {},
   "outputs": [],
   "source": [
    "radius = 10000                         #Choose your own radius\n",
    "radiusInDegrees=radius/111300            \n",
    "r = radiusInDegrees\n",
    "x0 = 40.84\n",
    "y0 = -73.87"
   ]
  },
  {
   "cell_type": "code",
   "execution_count": 208,
   "metadata": {},
   "outputs": [
    {
     "data": {
      "text/plain": [
       "'eastchester'"
      ]
     },
     "execution_count": 208,
     "metadata": {},
     "output_type": "execute_result"
    }
   ],
   "source": [
    "\n",
    "city = citipy.nearest_city(40.84, -73.87)\n",
    "#city.city_name\n",
    "city.city_name"
   ]
  },
  {
   "cell_type": "code",
   "execution_count": 209,
   "metadata": {},
   "outputs": [],
   "source": [
    "lat = []\n",
    "long = []\n",
    "cities = []"
   ]
  },
  {
   "cell_type": "code",
   "execution_count": 210,
   "metadata": {},
   "outputs": [],
   "source": [
    "x, y = uniform(-180,180), uniform(-90, 90)"
   ]
  },
  {
   "cell_type": "code",
   "execution_count": 211,
   "metadata": {},
   "outputs": [],
   "source": [
    "def newpoint():\n",
    "   return uniform(-180,180), uniform(-90, 90)\n",
    "\n",
    "points = (newpoint() for x in range(10))\n",
    "for point in points:\n",
    "   lat.append(point[0])\n",
    "   long.append(point[1])\n",
    "   cities.append(citipy.nearest_city(point[0],point[1]).city_name)"
   ]
  },
  {
   "cell_type": "code",
   "execution_count": 212,
   "metadata": {},
   "outputs": [
    {
     "data": {
      "text/html": [
       "<div>\n",
       "<style>\n",
       "    .dataframe thead tr:only-child th {\n",
       "        text-align: right;\n",
       "    }\n",
       "\n",
       "    .dataframe thead th {\n",
       "        text-align: left;\n",
       "    }\n",
       "\n",
       "    .dataframe tbody tr th {\n",
       "        vertical-align: top;\n",
       "    }\n",
       "</style>\n",
       "<table border=\"1\" class=\"dataframe\">\n",
       "  <thead>\n",
       "    <tr style=\"text-align: right;\">\n",
       "      <th></th>\n",
       "      <th>City</th>\n",
       "      <th>lat</th>\n",
       "      <th>long</th>\n",
       "    </tr>\n",
       "  </thead>\n",
       "  <tbody>\n",
       "    <tr>\n",
       "      <th>0</th>\n",
       "      <td>bonavista</td>\n",
       "      <td>51.164668</td>\n",
       "      <td>-48.312132</td>\n",
       "    </tr>\n",
       "    <tr>\n",
       "      <th>1</th>\n",
       "      <td>dikson</td>\n",
       "      <td>152.367592</td>\n",
       "      <td>62.948657</td>\n",
       "    </tr>\n",
       "    <tr>\n",
       "      <th>2</th>\n",
       "      <td>narsaq</td>\n",
       "      <td>88.544376</td>\n",
       "      <td>-59.763496</td>\n",
       "    </tr>\n",
       "    <tr>\n",
       "      <th>3</th>\n",
       "      <td>taolanaro</td>\n",
       "      <td>-65.675009</td>\n",
       "      <td>67.043894</td>\n",
       "    </tr>\n",
       "    <tr>\n",
       "      <th>4</th>\n",
       "      <td>narsaq</td>\n",
       "      <td>122.243169</td>\n",
       "      <td>-48.238103</td>\n",
       "    </tr>\n",
       "  </tbody>\n",
       "</table>\n",
       "</div>"
      ],
      "text/plain": [
       "        City         lat       long\n",
       "0  bonavista   51.164668 -48.312132\n",
       "1     dikson  152.367592  62.948657\n",
       "2     narsaq   88.544376 -59.763496\n",
       "3  taolanaro  -65.675009  67.043894\n",
       "4     narsaq  122.243169 -48.238103"
      ]
     },
     "execution_count": 212,
     "metadata": {},
     "output_type": "execute_result"
    }
   ],
   "source": [
    "citi_df = pd.DataFrame({\"City\":cities,\"lat\":lat,\"long\":long})\n",
    "citi_df.head()"
   ]
  },
  {
   "cell_type": "code",
   "execution_count": 226,
   "metadata": {},
   "outputs": [],
   "source": [
    "api_key = \"d9abdf629da67c96a2a419e45e4e25ee\"\n",
    "url = \"http://api.openweathermap.org/data/2.5/weather?\"\n",
    "units = \"metric\"\n",
    "#city = \"London\""
   ]
  },
  {
   "cell_type": "code",
   "execution_count": 237,
   "metadata": {},
   "outputs": [
    {
     "data": {
      "text/plain": [
       "{'base': 'stations',\n",
       " 'clouds': {'all': 80},\n",
       " 'cod': 200,\n",
       " 'coord': {'lat': 48.65, 'lon': -53.11},\n",
       " 'dt': 1519949330,\n",
       " 'id': 5905393,\n",
       " 'main': {'grnd_level': 1032.63,\n",
       "  'humidity': 94,\n",
       "  'pressure': 1032.63,\n",
       "  'sea_level': 1034.89,\n",
       "  'temp': 1.24,\n",
       "  'temp_max': 1.24,\n",
       "  'temp_min': 1.24},\n",
       " 'name': 'Bonavista',\n",
       " 'rain': {'3h': 0.265},\n",
       " 'sys': {'country': 'CA',\n",
       "  'message': 0.0033,\n",
       "  'sunrise': 1519985532,\n",
       "  'sunset': 1520025461},\n",
       " 'weather': [{'description': 'light rain',\n",
       "   'icon': '10n',\n",
       "   'id': 500,\n",
       "   'main': 'Rain'}],\n",
       " 'wind': {'deg': 97.5003, 'speed': 3.92}}"
      ]
     },
     "execution_count": 237,
     "metadata": {},
     "output_type": "execute_result"
    }
   ],
   "source": [
    "for city in cities:\n",
    "    weather_data.append(req.get(query_url + city).json())\n",
    "weather_data[0]"
   ]
  },
  {
   "cell_type": "code",
   "execution_count": 238,
   "metadata": {},
   "outputs": [
    {
     "ename": "AttributeError",
     "evalue": "'NoneType' object has no attribute 'get'",
     "output_type": "error",
     "traceback": [
      "\u001b[1;31m---------------------------------------------------------------------------\u001b[0m",
      "\u001b[1;31mAttributeError\u001b[0m                            Traceback (most recent call last)",
      "\u001b[1;32m<ipython-input-238-f0d5763ff8f2>\u001b[0m in \u001b[0;36m<module>\u001b[1;34m()\u001b[0m\n\u001b[0;32m      1\u001b[0m \u001b[1;31m# Extract interesting data from responses\u001b[0m\u001b[1;33m\u001b[0m\u001b[1;33m\u001b[0m\u001b[0m\n\u001b[1;32m----> 2\u001b[1;33m \u001b[0mlon_data\u001b[0m \u001b[1;33m=\u001b[0m \u001b[1;33m[\u001b[0m\u001b[0mdata\u001b[0m\u001b[1;33m.\u001b[0m\u001b[0mget\u001b[0m\u001b[1;33m(\u001b[0m\u001b[1;34m\"coord\"\u001b[0m\u001b[1;33m)\u001b[0m\u001b[1;33m.\u001b[0m\u001b[0mget\u001b[0m\u001b[1;33m(\u001b[0m\u001b[1;34m\"lon\"\u001b[0m\u001b[1;33m)\u001b[0m \u001b[1;32mfor\u001b[0m \u001b[0mdata\u001b[0m \u001b[1;32min\u001b[0m \u001b[0mweather_data\u001b[0m\u001b[1;33m]\u001b[0m\u001b[1;33m\u001b[0m\u001b[0m\n\u001b[0m\u001b[0;32m      3\u001b[0m \u001b[0mpressure_data\u001b[0m \u001b[1;33m=\u001b[0m \u001b[1;33m[\u001b[0m\u001b[0mdata\u001b[0m\u001b[1;33m.\u001b[0m\u001b[0mget\u001b[0m\u001b[1;33m(\u001b[0m\u001b[1;34m\"main\"\u001b[0m\u001b[1;33m)\u001b[0m\u001b[1;33m.\u001b[0m\u001b[0mget\u001b[0m\u001b[1;33m(\u001b[0m\u001b[1;34m\"pressure\"\u001b[0m\u001b[1;33m)\u001b[0m \u001b[1;32mfor\u001b[0m \u001b[0mdata\u001b[0m \u001b[1;32min\u001b[0m \u001b[0mweather_data\u001b[0m\u001b[1;33m]\u001b[0m\u001b[1;33m\u001b[0m\u001b[0m\n",
      "\u001b[1;32m<ipython-input-238-f0d5763ff8f2>\u001b[0m in \u001b[0;36m<listcomp>\u001b[1;34m(.0)\u001b[0m\n\u001b[0;32m      1\u001b[0m \u001b[1;31m# Extract interesting data from responses\u001b[0m\u001b[1;33m\u001b[0m\u001b[1;33m\u001b[0m\u001b[0m\n\u001b[1;32m----> 2\u001b[1;33m \u001b[0mlon_data\u001b[0m \u001b[1;33m=\u001b[0m \u001b[1;33m[\u001b[0m\u001b[0mdata\u001b[0m\u001b[1;33m.\u001b[0m\u001b[0mget\u001b[0m\u001b[1;33m(\u001b[0m\u001b[1;34m\"coord\"\u001b[0m\u001b[1;33m)\u001b[0m\u001b[1;33m.\u001b[0m\u001b[0mget\u001b[0m\u001b[1;33m(\u001b[0m\u001b[1;34m\"lon\"\u001b[0m\u001b[1;33m)\u001b[0m \u001b[1;32mfor\u001b[0m \u001b[0mdata\u001b[0m \u001b[1;32min\u001b[0m \u001b[0mweather_data\u001b[0m\u001b[1;33m]\u001b[0m\u001b[1;33m\u001b[0m\u001b[0m\n\u001b[0m\u001b[0;32m      3\u001b[0m \u001b[0mpressure_data\u001b[0m \u001b[1;33m=\u001b[0m \u001b[1;33m[\u001b[0m\u001b[0mdata\u001b[0m\u001b[1;33m.\u001b[0m\u001b[0mget\u001b[0m\u001b[1;33m(\u001b[0m\u001b[1;34m\"main\"\u001b[0m\u001b[1;33m)\u001b[0m\u001b[1;33m.\u001b[0m\u001b[0mget\u001b[0m\u001b[1;33m(\u001b[0m\u001b[1;34m\"pressure\"\u001b[0m\u001b[1;33m)\u001b[0m \u001b[1;32mfor\u001b[0m \u001b[0mdata\u001b[0m \u001b[1;32min\u001b[0m \u001b[0mweather_data\u001b[0m\u001b[1;33m]\u001b[0m\u001b[1;33m\u001b[0m\u001b[0m\n",
      "\u001b[1;31mAttributeError\u001b[0m: 'NoneType' object has no attribute 'get'"
     ]
    }
   ],
   "source": [
    "# Extract interesting data from responses\n",
    "lon_data = [data.get(\"coord\").get(\"lon\") for data in weather_data]\n",
    "pressure_data = [data.get(\"main\").get(\"pressure\") for data in weather_data]"
   ]
  },
  {
   "cell_type": "code",
   "execution_count": 228,
   "metadata": {},
   "outputs": [
    {
     "data": {
      "text/plain": [
       "292.541"
      ]
     },
     "execution_count": 228,
     "metadata": {},
     "output_type": "execute_result"
    }
   ],
   "source": [
    "# Build query URL\n",
    "weather_data = []\n",
    "temp = []\n",
    "for name in cities:\n",
    "    query_url = url + \"appid=\" + api_key + \"&units=\" + units + \"&q=\" + name\n",
    "    weather_response = req.get(query_url)\n",
    "    weather_json = weather_response.json()\n",
    "    weather_data.append(weather_json)\n",
    "    #temp.append(weather_json[\"main\"][\"temp\"])\n",
    "    #print(citi_df['City'])\n",
    "    #print(url + \"appid=\" + api_key + \"&q=\" + name['City'])\n",
    "    #print(query_url)\n",
    "#print((weather_json['sys']['dt']))\n",
    "    \n",
    "#weather_data['main']['temp']\n",
    "temperature\n"
   ]
  },
  {
   "cell_type": "code",
   "execution_count": 229,
   "metadata": {},
   "outputs": [
    {
     "data": {
      "text/plain": [
       "{'base': 'stations',\n",
       " 'clouds': {'all': 80},\n",
       " 'cod': 200,\n",
       " 'coord': {'lat': 48.65, 'lon': -53.11},\n",
       " 'dt': 1519949330,\n",
       " 'id': 5905393,\n",
       " 'main': {'grnd_level': 1032.63,\n",
       "  'humidity': 94,\n",
       "  'pressure': 1032.63,\n",
       "  'sea_level': 1034.89,\n",
       "  'temp': 1.24,\n",
       "  'temp_max': 1.24,\n",
       "  'temp_min': 1.24},\n",
       " 'name': 'Bonavista',\n",
       " 'rain': {'3h': 0.265},\n",
       " 'sys': {'country': 'CA',\n",
       "  'message': 0.0033,\n",
       "  'sunrise': 1519985532,\n",
       "  'sunset': 1520025461},\n",
       " 'weather': [{'description': 'light rain',\n",
       "   'icon': '10n',\n",
       "   'id': 500,\n",
       "   'main': 'Rain'}],\n",
       " 'wind': {'deg': 97.5003, 'speed': 3.92}}"
      ]
     },
     "execution_count": 229,
     "metadata": {},
     "output_type": "execute_result"
    }
   ],
   "source": [
    "#print(json.dumps(weather_data[0],indent=4,sort_keys='True'))\n",
    "weather_data[0]"
   ]
  },
  {
   "cell_type": "code",
   "execution_count": 216,
   "metadata": {},
   "outputs": [],
   "source": [
    "# Get weather data\n",
    "#weather_response = req.get(query_url)\n",
    "#weather_json = weather_response.json()"
   ]
  },
  {
   "cell_type": "code",
   "execution_count": 217,
   "metadata": {},
   "outputs": [
    {
     "name": "stdout",
     "output_type": "stream",
     "text": [
      "The weather API responded with: {'coord': {'lon': 26.89, 'lat': -33.59}, 'weather': [{'id': 500, 'main': 'Rain', 'description': 'light rain', 'icon': '10n'}], 'base': 'stations', 'main': {'temp': 292.541, 'pressure': 1021.77, 'humidity': 97, 'temp_min': 292.541, 'temp_max': 292.541, 'sea_level': 1030.52, 'grnd_level': 1021.77}, 'wind': {'speed': 2.87, 'deg': 120}, 'rain': {'3h': 1.9225}, 'clouds': {'all': 92}, 'dt': 1519948937, 'sys': {'message': 0.0039, 'country': 'ZA', 'sunrise': 1519963273, 'sunset': 1520009243}, 'id': 964432, 'name': 'Port Alfred', 'cod': 200}.\n"
     ]
    }
   ],
   "source": [
    "# Get the temperature from the response\n",
    "print(\"The weather API responded with: \" + str(weather_json) + \".\")"
   ]
  },
  {
   "cell_type": "code",
   "execution_count": 236,
   "metadata": {},
   "outputs": [
    {
     "ename": "TypeError",
     "evalue": "'list' object is not callable",
     "output_type": "error",
     "traceback": [
      "\u001b[1;31m---------------------------------------------------------------------------\u001b[0m",
      "\u001b[1;31mTypeError\u001b[0m                                 Traceback (most recent call last)",
      "\u001b[1;32m<ipython-input-236-7baf9a1d59ea>\u001b[0m in \u001b[0;36m<module>\u001b[1;34m()\u001b[0m\n\u001b[0;32m      1\u001b[0m \u001b[1;31m# Extract interesting data from responses\u001b[0m\u001b[1;33m\u001b[0m\u001b[1;33m\u001b[0m\u001b[0m\n\u001b[0;32m      2\u001b[0m \u001b[1;32mfor\u001b[0m \u001b[0mdata\u001b[0m \u001b[1;32min\u001b[0m \u001b[0mweather_data\u001b[0m\u001b[1;33m:\u001b[0m\u001b[1;33m\u001b[0m\u001b[0m\n\u001b[1;32m----> 3\u001b[1;33m     \u001b[0mprint\u001b[0m\u001b[1;33m(\u001b[0m\u001b[0mweather_data\u001b[0m\u001b[1;33m(\u001b[0m\u001b[1;34m'coord'\u001b[0m\u001b[1;33m)\u001b[0m\u001b[1;33m[\u001b[0m\u001b[1;34m'lon'\u001b[0m\u001b[1;33m]\u001b[0m\u001b[1;33m)\u001b[0m\u001b[1;33m\u001b[0m\u001b[0m\n\u001b[0m",
      "\u001b[1;31mTypeError\u001b[0m: 'list' object is not callable"
     ]
    }
   ],
   "source": [
    "# Extract interesting data from responses\n",
    "for data in weather_data:\n",
    "    print(weather_data('coord')['lon'])"
   ]
  },
  {
   "cell_type": "code",
   "execution_count": null,
   "metadata": {},
   "outputs": [],
   "source": []
  }
 ],
 "metadata": {
  "kernelspec": {
   "display_name": "Python 3",
   "language": "python",
   "name": "python3"
  },
  "language_info": {
   "codemirror_mode": {
    "name": "ipython",
    "version": 3
   },
   "file_extension": ".py",
   "mimetype": "text/x-python",
   "name": "python",
   "nbconvert_exporter": "python",
   "pygments_lexer": "ipython3",
   "version": "3.6.3"
  }
 },
 "nbformat": 4,
 "nbformat_minor": 2
}
